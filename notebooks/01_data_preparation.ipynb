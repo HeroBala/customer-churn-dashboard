{
 "cells": [
  {
   "cell_type": "code",
   "execution_count": 1,
   "id": "9d771961",
   "metadata": {},
   "outputs": [
    {
     "name": "stdout",
     "output_type": "stream",
     "text": [
      "✅ Data preprocessing complete and saved.\n"
     ]
    },
    {
     "name": "stderr",
     "output_type": "stream",
     "text": [
      "/var/folders/z1/q0wxm5xn4hv2phb7vt75ddr80000gn/T/ipykernel_7565/2719967940.py:18: FutureWarning: A value is trying to be set on a copy of a DataFrame or Series through chained assignment using an inplace method.\n",
      "The behavior will change in pandas 3.0. This inplace method will never work because the intermediate object on which we are setting values always behaves as a copy.\n",
      "\n",
      "For example, when doing 'df[col].method(value, inplace=True)', try using 'df.method({col: value}, inplace=True)' or df[col] = df[col].method(value) instead, to perform the operation inplace on the original object.\n",
      "\n",
      "\n",
      "  df['totalcharges'].fillna(df['totalcharges'].median(), inplace=True)\n"
     ]
    }
   ],
   "source": [
    "# 01_data_preparation.ipynb\n",
    "\n",
    "import pandas as pd\n",
    "\n",
    "# Load raw data\n",
    "df = pd.read_csv('../data/raw/Telco-Customer-Churn.csv')\n",
    "\n",
    "# Standardize column names\n",
    "df.columns = df.columns.str.lower().str.replace(' ', '_')\n",
    "\n",
    "# Drop irrelevant columns\n",
    "df.drop('customerid', axis=1, inplace=True)\n",
    "\n",
    "# Convert TotalCharges to numeric\n",
    "df['totalcharges'] = pd.to_numeric(df['totalcharges'], errors='coerce')\n",
    "\n",
    "# Fill missing values\n",
    "df['totalcharges'].fillna(df['totalcharges'].median(), inplace=True)\n",
    "\n",
    "# Encode binary categorical variables\n",
    "df['churn'] = df['churn'].map({'Yes': 1, 'No': 0})\n",
    "df['gender'] = df['gender'].map({'Male': 1, 'Female': 0})\n",
    "\n",
    "# Save processed data\n",
    "df.to_csv('../data/processed/processed_data.csv', index=False)\n",
    "\n",
    "print(\"✅ Data preprocessing complete and saved.\")\n"
   ]
  }
 ],
 "metadata": {
  "kernelspec": {
   "display_name": "Python 3",
   "language": "python",
   "name": "python3"
  },
  "language_info": {
   "codemirror_mode": {
    "name": "ipython",
    "version": 3
   },
   "file_extension": ".py",
   "mimetype": "text/x-python",
   "name": "python",
   "nbconvert_exporter": "python",
   "pygments_lexer": "ipython3",
   "version": "3.9.6"
  }
 },
 "nbformat": 4,
 "nbformat_minor": 5
}
